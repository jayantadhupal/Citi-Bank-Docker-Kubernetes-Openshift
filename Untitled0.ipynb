{
  "nbformat": 4,
  "nbformat_minor": 0,
  "metadata": {
    "colab": {
      "provenance": [],
      "toc_visible": true,
      "authorship_tag": "ABX9TyPjO45b2x427+cxG8OhTwbR",
      "include_colab_link": true
    },
    "kernelspec": {
      "name": "python3",
      "display_name": "Python 3"
    },
    "language_info": {
      "name": "python"
    }
  },
  "cells": [
    {
      "cell_type": "markdown",
      "metadata": {
        "id": "view-in-github",
        "colab_type": "text"
      },
      "source": [
        "<a href=\"https://colab.research.google.com/github/jayantadhupal/Citi-Bank-Docker-Kubernetes-Openshift/blob/main/Untitled0.ipynb\" target=\"_parent\"><img src=\"https://colab.research.google.com/assets/colab-badge.svg\" alt=\"Open In Colab\"/></a>"
      ]
    },
    {
      "cell_type": "code",
      "execution_count": 1,
      "metadata": {
        "colab": {
          "base_uri": "https://localhost:8080/"
        },
        "id": "U6Atk__FmRM3",
        "outputId": "1f58b05d-b049-4a48-dfea-339c2b6f7984"
      },
      "outputs": [
        {
          "output_type": "stream",
          "name": "stdout",
          "text": [
            "Collecting pyspark\n",
            "  Downloading pyspark-3.5.3.tar.gz (317.3 MB)\n",
            "\u001b[2K     \u001b[90m━━━━━━━━━━━━━━━━━━━━━━━━━━━━━━━━━━━━━━━━\u001b[0m \u001b[32m317.3/317.3 MB\u001b[0m \u001b[31m4.9 MB/s\u001b[0m eta \u001b[36m0:00:00\u001b[0m\n",
            "\u001b[?25h  Preparing metadata (setup.py) ... \u001b[?25l\u001b[?25hdone\n",
            "Requirement already satisfied: py4j==0.10.9.7 in /usr/local/lib/python3.10/dist-packages (from pyspark) (0.10.9.7)\n",
            "Building wheels for collected packages: pyspark\n",
            "  Building wheel for pyspark (setup.py) ... \u001b[?25l\u001b[?25hdone\n",
            "  Created wheel for pyspark: filename=pyspark-3.5.3-py2.py3-none-any.whl size=317840625 sha256=7e021a50c6c602c455a48906a82c292ebf5bd7cf42c3ecfdd68c87baee7e9154\n",
            "  Stored in directory: /root/.cache/pip/wheels/1b/3a/92/28b93e2fbfdbb07509ca4d6f50c5e407f48dce4ddbda69a4ab\n",
            "Successfully built pyspark\n",
            "Installing collected packages: pyspark\n",
            "Successfully installed pyspark-3.5.3\n"
          ]
        }
      ],
      "source": [
        "pip install pyspark"
      ]
    },
    {
      "cell_type": "code",
      "source": [
        "from pyspark import SparkConf, SparkContext"
      ],
      "metadata": {
        "id": "mEYdNcG4nE1w"
      },
      "execution_count": 2,
      "outputs": []
    },
    {
      "cell_type": "code",
      "source": [
        "from pyspark.sql import SQLContext"
      ],
      "metadata": {
        "id": "jnN3h3UVnHHx"
      },
      "execution_count": 3,
      "outputs": []
    },
    {
      "cell_type": "code",
      "source": [
        "sc = SparkContext()"
      ],
      "metadata": {
        "id": "Qzm_1SzknMVC"
      },
      "execution_count": 4,
      "outputs": []
    },
    {
      "cell_type": "code",
      "source": [
        "txnRDD = sc.textFile(\"/content/sample_data/txns1.txt\")"
      ],
      "metadata": {
        "id": "FKUCy8a7nSzr"
      },
      "execution_count": 5,
      "outputs": []
    },
    {
      "cell_type": "code",
      "source": [
        "txnRDD.count()"
      ],
      "metadata": {
        "colab": {
          "base_uri": "https://localhost:8080/"
        },
        "id": "Y3m46axvnbMA",
        "outputId": "d0ecaa5e-62e6-4bdb-e5c0-ee26c44ad22c"
      },
      "execution_count": 6,
      "outputs": [
        {
          "output_type": "execute_result",
          "data": {
            "text/plain": [
              "50000"
            ]
          },
          "metadata": {},
          "execution_count": 6
        }
      ]
    },
    {
      "cell_type": "code",
      "source": [
        "txnRDD.getNumPartitions()"
      ],
      "metadata": {
        "colab": {
          "base_uri": "https://localhost:8080/"
        },
        "id": "_NaSNRL5rWb0",
        "outputId": "5ddcb85b-19be-4e15-8b34-77f14277713c"
      },
      "execution_count": 18,
      "outputs": [
        {
          "output_type": "execute_result",
          "data": {
            "text/plain": [
              "2"
            ]
          },
          "metadata": {},
          "execution_count": 18
        }
      ]
    },
    {
      "cell_type": "code",
      "source": [
        "for line in txnRDD.take(20):\n",
        "  print(line)"
      ],
      "metadata": {
        "colab": {
          "base_uri": "https://localhost:8080/"
        },
        "id": "7FHmZ6eSnjJG",
        "outputId": "f5eddb9e-ff20-4607-a10c-c38a9e95d121"
      },
      "execution_count": 9,
      "outputs": [
        {
          "output_type": "stream",
          "name": "stdout",
          "text": [
            "00000000,06-26-2011,4007024,040.33,Exercise & Fitness,Cardio Machine Accessories,Clarksville,Tennessee,credit\n",
            "00000001,05-26-2011,4006742,198.44,Exercise & Fitness,Weightlifting Gloves,Long Beach,California,credit\n",
            "00000002,06-01-2011,4009775,005.58,Exercise & Fitness,Weightlifting Machine Accessories,Anaheim,California,credit\n",
            "00000003,06-05-2011,4002199,198.19,Gymnastics,Gymnastics Rings,Milwaukee,Wisconsin,credit\n",
            "00000004,12-17-2011,4002613,098.81,Team Sports,Field Hockey,Nashville  ,Tennessee,credit\n",
            "00000005,02-14-2011,4007591,193.63,Outdoor Recreation,Camping & Backpacking & Hiking,Chicago,Illinois,credit\n",
            "00000006,10-28-2011,4002190,027.89,Puzzles,Jigsaw Puzzles,Charleston,South Carolina,credit\n",
            "00000007,07-14-2011,4002964,096.01,Outdoor Play Equipment,Sandboxes,Columbus,Ohio,credit\n",
            "00000008,01-17-2011,4007361,010.44,Winter Sports,Snowmobiling,Des Moines,Iowa,credit\n",
            "00000009,05-17-2011,4004798,152.46,Jumping,Bungee Jumping,St. Petersburg,Florida,credit\n",
            "00000010,05-29-2011,4004646,180.28,Outdoor Recreation,Archery,Reno,Nevada,credit\n",
            "00000011,06-18-2011,4008071,121.39,Outdoor Play Equipment,Swing Sets,Columbus,Ohio,credit\n",
            "00000012,02-08-2011,4002473,041.52,Indoor Games,Bowling,San Francisco,California,credit\n",
            "00000013,03-13-2011,4003268,107.80,Team Sports,Field Hockey,Honolulu  ,Hawaii,credit\n",
            "00000014,02-25-2011,4004613,036.81,Gymnastics,Vaulting Horses,Los Angeles,California,credit\n",
            "00000015,10-20-2011,4003179,137.64,Combat Sports,Fencing,Honolulu  ,Hawaii,credit\n",
            "00000016,05-28-2011,4009135,035.56,Exercise & Fitness,Free Weight Bars,Columbia,South Carolina,credit\n",
            "00000017,10-18-2011,4006679,075.55,Water Sports,Scuba Diving & Snorkeling,Omaha,Nebraska,credit\n",
            "00000018,11-18-2011,4002444,088.65,Team Sports,Baseball,Salt Lake City,Utah,credit\n",
            "00000019,08-28-2011,4008871,051.81,Water Sports,Life Jackets,Newark,New Jersey,credit\n"
          ]
        }
      ]
    },
    {
      "cell_type": "code",
      "source": [
        "txnKVRDD = txnRDD.map(lambda row : (row.split(',')[5], float(row.split(',')[3])))"
      ],
      "metadata": {
        "id": "-wQDFEpVn2Tt"
      },
      "execution_count": 10,
      "outputs": []
    },
    {
      "cell_type": "code",
      "source": [
        "for line in txnKVRDD.take(5):\n",
        "  print(line)"
      ],
      "metadata": {
        "colab": {
          "base_uri": "https://localhost:8080/"
        },
        "id": "1Tc4yIx8ojtm",
        "outputId": "337e6f07-c85b-415b-a1d4-43b2ab9a65cd"
      },
      "execution_count": 11,
      "outputs": [
        {
          "output_type": "stream",
          "name": "stdout",
          "text": [
            "('Cardio Machine Accessories', 40.33)\n",
            "('Weightlifting Gloves', 198.44)\n",
            "('Weightlifting Machine Accessories', 5.58)\n",
            "('Gymnastics Rings', 198.19)\n",
            "('Field Hockey', 98.81)\n"
          ]
        }
      ]
    },
    {
      "cell_type": "code",
      "source": [
        "spendbyProd = txnKVRDD.reduceByKey(lambda a,b : a+b)"
      ],
      "metadata": {
        "id": "5_iVhSmco386"
      },
      "execution_count": 12,
      "outputs": []
    },
    {
      "cell_type": "code",
      "source": [
        "for line in spendbyProd.take(10):\n",
        "  print(line)"
      ],
      "metadata": {
        "colab": {
          "base_uri": "https://localhost:8080/"
        },
        "id": "BB8pA9izpVW8",
        "outputId": "3d511a59-fa29-406b-b0ea-a42fc9191ce1"
      },
      "execution_count": 17,
      "outputs": [
        {
          "output_type": "stream",
          "name": "stdout",
          "text": [
            "('Cardio Machine Accessories', 46485.54000000001)\n",
            "('Weightlifting Machine Accessories', 41571.109999999986)\n",
            "('Field Hockey', 40813.67999999999)\n",
            "('Camping & Backpacking & Hiking', 39993.52)\n",
            "('Jigsaw Puzzles', 41183.08)\n",
            "('Snowmobiling', 40357.509999999995)\n",
            "('Bungee Jumping', 38975.59)\n",
            "('Bowling', 40052.86000000001)\n",
            "('Fencing', 40604.29)\n",
            "('Weightlifting Belts', 45111.67999999999)\n"
          ]
        }
      ]
    },
    {
      "cell_type": "code",
      "source": [
        "spendbyProd.count()"
      ],
      "metadata": {
        "colab": {
          "base_uri": "https://localhost:8080/"
        },
        "id": "AY38Tx_4rzGm",
        "outputId": "905935ab-e022-4adc-cf6e-bbe853da221a"
      },
      "execution_count": 19,
      "outputs": [
        {
          "output_type": "execute_result",
          "data": {
            "text/plain": [
              "125"
            ]
          },
          "metadata": {},
          "execution_count": 19
        }
      ]
    },
    {
      "cell_type": "code",
      "source": [
        "for line in spendbyProd.collect():\n",
        "  print(line)"
      ],
      "metadata": {
        "colab": {
          "base_uri": "https://localhost:8080/"
        },
        "id": "ihQujkwjtbW2",
        "outputId": "a7cf7a8b-6ef6-48f2-8461-bfdc3710b17e"
      },
      "execution_count": 20,
      "outputs": [
        {
          "output_type": "stream",
          "name": "stdout",
          "text": [
            "('Cardio Machine Accessories', 46485.54000000001)\n",
            "('Weightlifting Machine Accessories', 41571.109999999986)\n",
            "('Field Hockey', 40813.67999999999)\n",
            "('Camping & Backpacking & Hiking', 39993.52)\n",
            "('Jigsaw Puzzles', 41183.08)\n",
            "('Snowmobiling', 40357.509999999995)\n",
            "('Bungee Jumping', 38975.59)\n",
            "('Bowling', 40052.86000000001)\n",
            "('Fencing', 40604.29)\n",
            "('Weightlifting Belts', 45111.67999999999)\n",
            "('Parachutes', 41186.419999999984)\n",
            "('Kitesurfing', 37730.89)\n",
            "('Surfing', 35069.08)\n",
            "('Mahjong', 44995.199999999975)\n",
            "('Cricket', 37061.58000000001)\n",
            "('Soccer', 39094.649999999994)\n",
            "('Lawn Games', 46828.43999999999)\n",
            "('Indoor Volleyball', 42146.44)\n",
            "('Football', 42016.180000000015)\n",
            "('Tetherball', 35611.92999999999)\n",
            "('Exercise Bands', 37679.749999999985)\n",
            "('Jumping Stilts', 40961.51000000003)\n",
            "('Lawn Water Slides', 41730.19000000002)\n",
            "('Geocaching', 39420.89)\n",
            "('Skating', 42443.56000000001)\n",
            "('Windsurfing', 43018.68000000001)\n",
            "('Beach Volleyball', 44890.66999999999)\n",
            "('Riding Scooters', 40438.060000000005)\n",
            "('Poker Chips & Sets', 42007.830000000016)\n",
            "('Softball', 40437.26000000001)\n",
            "('Skateboarding', 42632.18)\n",
            "('Trampolines', 42556.970000000016)\n",
            "('Springboards', 37890.759999999995)\n",
            "('Ice Climbing', 40832.45)\n",
            "('Rock Climbing', 38451.42999999999)\n",
            "('Stopwatches', 44443.520000000004)\n",
            "('Gymnastics Mats', 43224.55)\n",
            "('Towed Water Sports', 40370.639999999985)\n",
            "('Team Handball', 38121.049999999996)\n",
            "('Whitewater Rafting', 41048.220000000016)\n",
            "('Medicine Balls', 42798.859999999986)\n",
            "('Dominoes', 39585.229999999996)\n",
            "('Water Tables', 40442.499999999985)\n",
            "('Equestrian', 38381.94)\n",
            "('Dice Games', 40396.74999999997)\n",
            "('Gymnastics Protective Gear', 41201.54000000001)\n",
            "('Martial Arts', 39276.619999999995)\n",
            "('Trampoline Accessories', 42726.340000000026)\n",
            "('Playhouses', 42186.76999999999)\n",
            "('Card Games', 40838.75)\n",
            "('Air Hockey', 40161.11000000003)\n",
            "('Boxing', 44516.869999999995)\n",
            "('Track & Field', 38687.80999999998)\n",
            "('Gym Mats', 39274.990000000005)\n",
            "('Cross-Country Skiing', 43562.229999999996)\n",
            "('Foam Rollers', 42779.17999999999)\n",
            "('Hockey', 44144.750000000015)\n",
            "('Cardio Machines', 40901.90000000001)\n",
            "('Yoga & Pilates', 47804.93999999999)\n",
            "('Mechanical Puzzles', 20381.67)\n",
            "('Snowshoeing', 40801.9)\n",
            "('Foosball', 43055.95999999999)\n",
            "('Bodyboarding', 42457.489999999976)\n",
            "('Disc Golf', 33944.01999999999)\n",
            "('Water Tubing', 42154.94)\n",
            "('Squash', 40618.57000000001)\n",
            "('Lacrosse', 42732.61)\n",
            "('Weightlifting Machines', 42701.40000000001)\n",
            "('Ping Pong', 39973.020000000004)\n",
            "('Outdoor Playsets', 39532.590000000026)\n",
            "('Bobsledding', 43157.45999999996)\n",
            "('Weightlifting Gloves', 38438.720000000016)\n",
            "('Gymnastics Rings', 39871.54000000001)\n",
            "('Sandboxes', 42535.79999999999)\n",
            "('Archery', 37088.65999999999)\n",
            "('Swing Sets', 47204.14)\n",
            "('Vaulting Horses', 41052.8)\n",
            "('Free Weight Bars', 41915.61999999999)\n",
            "('Scuba Diving & Snorkeling', 40239.799999999996)\n",
            "('Baseball', 37843.82000000001)\n",
            "('Life Jackets', 40632.100000000006)\n",
            "('Darts', 43243.41999999998)\n",
            "('Wrestling', 40332.89)\n",
            "('Hunting', 39081.74)\n",
            "('Swimming', 43486.89000000003)\n",
            "('Dice & Dice Sets', 41652.66000000002)\n",
            "('Board Games', 41628.470000000016)\n",
            "('Shooting Games', 41839.129999999976)\n",
            "('Cheerleading', 41244.57000000001)\n",
            "('Water Polo', 43577.83)\n",
            "('Abdominal Equipment', 43304.109999999986)\n",
            "('Pogo Sticks', 40622.26)\n",
            "('Running', 39169.110000000015)\n",
            "('Snowboarding', 38064.80999999999)\n",
            "('Downhill Skiing', 36870.36)\n",
            "('Ballet Bars', 42603.71000000001)\n",
            "('Portable Electronic Games', 41931.249999999985)\n",
            "('Sledding', 38509.55999999999)\n",
            "('Exercise Balls', 45143.84)\n",
            "('Pommel Horses', 38899.89999999998)\n",
            "('Cycling', 42243.91)\n",
            "('Curling', 38207.250000000015)\n",
            "('Jump Ropes', 40668.42)\n",
            "('Slides', 41096.29000000002)\n",
            "('Bingo Sets', 41896.56000000001)\n",
            "('Weight Benches', 43473.69000000001)\n",
            "('Deck Shuffleboard', 43440.520000000004)\n",
            "('Motorsports', 42427.04999999998)\n",
            "('Badminton', 44786.19000000001)\n",
            "('Golf', 46577.68)\n",
            "('Racquetball', 42183.48999999999)\n",
            "('Rugby', 43752.19000000002)\n",
            "('Tennis', 39387.80999999999)\n",
            "('Air Suits', 19371.570000000003)\n",
            "('Hang Gliding', 38758.909999999996)\n",
            "('Balance Beams', 44052.90000000001)\n",
            "('Table Shuffleboard', 43405.15)\n",
            "('Basketball', 44954.67999999999)\n",
            "('Gymnastics Bars', 41031.350000000006)\n",
            "('Billiards', 38614.51999999999)\n",
            "('Boating', 43049.06999999999)\n",
            "('Fishing', 37144.609999999986)\n",
            "('Free Weights', 41966.600000000006)\n",
            "('Wetsuits', 38980.34)\n",
            "('Luge', 40649.729999999996)\n"
          ]
        }
      ]
    },
    {
      "cell_type": "code",
      "source": [
        "sortbyval = spendbyProd.sortBy(lambda a : -a[1])"
      ],
      "metadata": {
        "id": "azLHuypHtkhF"
      },
      "execution_count": 21,
      "outputs": []
    },
    {
      "cell_type": "code",
      "source": [
        "for line in sortbyval.take(10):\n",
        "  print(line)"
      ],
      "metadata": {
        "colab": {
          "base_uri": "https://localhost:8080/"
        },
        "id": "CybJCSp6u9w1",
        "outputId": "577bd775-d7c6-4fae-ff3b-7b8b5dee3eda"
      },
      "execution_count": 22,
      "outputs": [
        {
          "output_type": "stream",
          "name": "stdout",
          "text": [
            "('Yoga & Pilates', 47804.93999999999)\n",
            "('Swing Sets', 47204.14)\n",
            "('Lawn Games', 46828.43999999999)\n",
            "('Golf', 46577.68)\n",
            "('Cardio Machine Accessories', 46485.54000000001)\n",
            "('Exercise Balls', 45143.84)\n",
            "('Weightlifting Belts', 45111.67999999999)\n",
            "('Mahjong', 44995.199999999975)\n",
            "('Basketball', 44954.67999999999)\n",
            "('Beach Volleyball', 44890.66999999999)\n"
          ]
        }
      ]
    },
    {
      "cell_type": "code",
      "source": [
        "sortbyval.saveAsTextFile(\"/content/sample_data/pyspark4\")"
      ],
      "metadata": {
        "id": "4d7M4_p4vD42"
      },
      "execution_count": 23,
      "outputs": []
    },
    {
      "cell_type": "code",
      "source": [
        "sortbyval2 = sortbyval.map(lambda a : a[0] + \",\" + str(round(a[1],2)))"
      ],
      "metadata": {
        "id": "C2PWLs-6w7x5"
      },
      "execution_count": 24,
      "outputs": []
    },
    {
      "cell_type": "code",
      "source": [
        "sortbyval2.saveAsTextFile(\"/content/sample_data/pyspark5\")"
      ],
      "metadata": {
        "id": "oFFgIozrxCbJ"
      },
      "execution_count": 25,
      "outputs": []
    }
  ]
}